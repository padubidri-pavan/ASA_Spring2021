{
  "nbformat": 4,
  "nbformat_minor": 0,
  "metadata": {
    "colab": {
      "name": "BiT-finetuning.ipynb",
      "provenance": [],
      "collapsed_sections": [],
      "machine_shape": "hm",
      "authorship_tag": "ABX9TyO/dnCnrD/hg69IhPgoyEJJ",
      "include_colab_link": true
    },
    "kernelspec": {
      "name": "python3",
      "display_name": "Python 3"
    },
    "language_info": {
      "name": "python"
    },
    "accelerator": "GPU",
    "widgets": {
      "application/vnd.jupyter.widget-state+json": {
        "0fe8e9b948dc4432a42788328818dd38": {
          "model_module": "@jupyter-widgets/controls",
          "model_name": "HBoxModel",
          "model_module_version": "1.5.0",
          "state": {
            "_view_name": "HBoxView",
            "_dom_classes": [],
            "_model_name": "HBoxModel",
            "_view_module": "@jupyter-widgets/controls",
            "_model_module_version": "1.5.0",
            "_view_count": null,
            "_view_module_version": "1.5.0",
            "box_style": "",
            "layout": "IPY_MODEL_158551a96b874d9892650476527c6277",
            "_model_module": "@jupyter-widgets/controls",
            "children": [
              "IPY_MODEL_50fd3d55edb34951b97fd7189a6cf36b",
              "IPY_MODEL_bd942a82072e46c3846f212c03c68290",
              "IPY_MODEL_eaaa9eef212f4d8990866e0b4aaddb08"
            ]
          }
        },
        "158551a96b874d9892650476527c6277": {
          "model_module": "@jupyter-widgets/base",
          "model_name": "LayoutModel",
          "model_module_version": "1.2.0",
          "state": {
            "_view_name": "LayoutView",
            "grid_template_rows": null,
            "right": null,
            "justify_content": null,
            "_view_module": "@jupyter-widgets/base",
            "overflow": null,
            "_model_module_version": "1.2.0",
            "_view_count": null,
            "flex_flow": null,
            "width": null,
            "min_width": null,
            "border": null,
            "align_items": null,
            "bottom": null,
            "_model_module": "@jupyter-widgets/base",
            "top": null,
            "grid_column": null,
            "overflow_y": null,
            "overflow_x": null,
            "grid_auto_flow": null,
            "grid_area": null,
            "grid_template_columns": null,
            "flex": null,
            "_model_name": "LayoutModel",
            "justify_items": null,
            "grid_row": null,
            "max_height": null,
            "align_content": null,
            "visibility": null,
            "align_self": null,
            "height": null,
            "min_height": null,
            "padding": null,
            "grid_auto_rows": null,
            "grid_gap": null,
            "max_width": null,
            "order": null,
            "_view_module_version": "1.2.0",
            "grid_template_areas": null,
            "object_position": null,
            "object_fit": null,
            "grid_auto_columns": null,
            "margin": null,
            "display": null,
            "left": null
          }
        },
        "50fd3d55edb34951b97fd7189a6cf36b": {
          "model_module": "@jupyter-widgets/controls",
          "model_name": "HTMLModel",
          "model_module_version": "1.5.0",
          "state": {
            "_view_name": "HTMLView",
            "style": "IPY_MODEL_83ce6c35ec5647e1ae73672d7c709c1c",
            "_dom_classes": [],
            "description": "",
            "_model_name": "HTMLModel",
            "placeholder": "​",
            "_view_module": "@jupyter-widgets/controls",
            "_model_module_version": "1.5.0",
            "value": "",
            "_view_count": null,
            "_view_module_version": "1.5.0",
            "description_tooltip": null,
            "_model_module": "@jupyter-widgets/controls",
            "layout": "IPY_MODEL_ee8206ee72224dbc9dce90382cd8ee40"
          }
        },
        "bd942a82072e46c3846f212c03c68290": {
          "model_module": "@jupyter-widgets/controls",
          "model_name": "FloatProgressModel",
          "model_module_version": "1.5.0",
          "state": {
            "_view_name": "ProgressView",
            "style": "IPY_MODEL_3a9055b786ae4637b863475056a0c15c",
            "_dom_classes": [],
            "description": "",
            "_model_name": "FloatProgressModel",
            "bar_style": "success",
            "max": 170498071,
            "_view_module": "@jupyter-widgets/controls",
            "_model_module_version": "1.5.0",
            "value": 170498071,
            "_view_count": null,
            "_view_module_version": "1.5.0",
            "orientation": "horizontal",
            "min": 0,
            "description_tooltip": null,
            "_model_module": "@jupyter-widgets/controls",
            "layout": "IPY_MODEL_dcbbb0f9e37248e2b9742cbb2153b2bc"
          }
        },
        "eaaa9eef212f4d8990866e0b4aaddb08": {
          "model_module": "@jupyter-widgets/controls",
          "model_name": "HTMLModel",
          "model_module_version": "1.5.0",
          "state": {
            "_view_name": "HTMLView",
            "style": "IPY_MODEL_c1ad134f85d94570a161477dae84d1ad",
            "_dom_classes": [],
            "description": "",
            "_model_name": "HTMLModel",
            "placeholder": "​",
            "_view_module": "@jupyter-widgets/controls",
            "_model_module_version": "1.5.0",
            "value": " 170499072/? [00:08&lt;00:00, 37353639.64it/s]",
            "_view_count": null,
            "_view_module_version": "1.5.0",
            "description_tooltip": null,
            "_model_module": "@jupyter-widgets/controls",
            "layout": "IPY_MODEL_afa6f0ded6f34b199a583e6566556cee"
          }
        },
        "83ce6c35ec5647e1ae73672d7c709c1c": {
          "model_module": "@jupyter-widgets/controls",
          "model_name": "DescriptionStyleModel",
          "model_module_version": "1.5.0",
          "state": {
            "_view_name": "StyleView",
            "_model_name": "DescriptionStyleModel",
            "description_width": "",
            "_view_module": "@jupyter-widgets/base",
            "_model_module_version": "1.5.0",
            "_view_count": null,
            "_view_module_version": "1.2.0",
            "_model_module": "@jupyter-widgets/controls"
          }
        },
        "ee8206ee72224dbc9dce90382cd8ee40": {
          "model_module": "@jupyter-widgets/base",
          "model_name": "LayoutModel",
          "model_module_version": "1.2.0",
          "state": {
            "_view_name": "LayoutView",
            "grid_template_rows": null,
            "right": null,
            "justify_content": null,
            "_view_module": "@jupyter-widgets/base",
            "overflow": null,
            "_model_module_version": "1.2.0",
            "_view_count": null,
            "flex_flow": null,
            "width": null,
            "min_width": null,
            "border": null,
            "align_items": null,
            "bottom": null,
            "_model_module": "@jupyter-widgets/base",
            "top": null,
            "grid_column": null,
            "overflow_y": null,
            "overflow_x": null,
            "grid_auto_flow": null,
            "grid_area": null,
            "grid_template_columns": null,
            "flex": null,
            "_model_name": "LayoutModel",
            "justify_items": null,
            "grid_row": null,
            "max_height": null,
            "align_content": null,
            "visibility": null,
            "align_self": null,
            "height": null,
            "min_height": null,
            "padding": null,
            "grid_auto_rows": null,
            "grid_gap": null,
            "max_width": null,
            "order": null,
            "_view_module_version": "1.2.0",
            "grid_template_areas": null,
            "object_position": null,
            "object_fit": null,
            "grid_auto_columns": null,
            "margin": null,
            "display": null,
            "left": null
          }
        },
        "3a9055b786ae4637b863475056a0c15c": {
          "model_module": "@jupyter-widgets/controls",
          "model_name": "ProgressStyleModel",
          "model_module_version": "1.5.0",
          "state": {
            "_view_name": "StyleView",
            "_model_name": "ProgressStyleModel",
            "description_width": "",
            "_view_module": "@jupyter-widgets/base",
            "_model_module_version": "1.5.0",
            "_view_count": null,
            "_view_module_version": "1.2.0",
            "bar_color": null,
            "_model_module": "@jupyter-widgets/controls"
          }
        },
        "dcbbb0f9e37248e2b9742cbb2153b2bc": {
          "model_module": "@jupyter-widgets/base",
          "model_name": "LayoutModel",
          "model_module_version": "1.2.0",
          "state": {
            "_view_name": "LayoutView",
            "grid_template_rows": null,
            "right": null,
            "justify_content": null,
            "_view_module": "@jupyter-widgets/base",
            "overflow": null,
            "_model_module_version": "1.2.0",
            "_view_count": null,
            "flex_flow": null,
            "width": null,
            "min_width": null,
            "border": null,
            "align_items": null,
            "bottom": null,
            "_model_module": "@jupyter-widgets/base",
            "top": null,
            "grid_column": null,
            "overflow_y": null,
            "overflow_x": null,
            "grid_auto_flow": null,
            "grid_area": null,
            "grid_template_columns": null,
            "flex": null,
            "_model_name": "LayoutModel",
            "justify_items": null,
            "grid_row": null,
            "max_height": null,
            "align_content": null,
            "visibility": null,
            "align_self": null,
            "height": null,
            "min_height": null,
            "padding": null,
            "grid_auto_rows": null,
            "grid_gap": null,
            "max_width": null,
            "order": null,
            "_view_module_version": "1.2.0",
            "grid_template_areas": null,
            "object_position": null,
            "object_fit": null,
            "grid_auto_columns": null,
            "margin": null,
            "display": null,
            "left": null
          }
        },
        "c1ad134f85d94570a161477dae84d1ad": {
          "model_module": "@jupyter-widgets/controls",
          "model_name": "DescriptionStyleModel",
          "model_module_version": "1.5.0",
          "state": {
            "_view_name": "StyleView",
            "_model_name": "DescriptionStyleModel",
            "description_width": "",
            "_view_module": "@jupyter-widgets/base",
            "_model_module_version": "1.5.0",
            "_view_count": null,
            "_view_module_version": "1.2.0",
            "_model_module": "@jupyter-widgets/controls"
          }
        },
        "afa6f0ded6f34b199a583e6566556cee": {
          "model_module": "@jupyter-widgets/base",
          "model_name": "LayoutModel",
          "model_module_version": "1.2.0",
          "state": {
            "_view_name": "LayoutView",
            "grid_template_rows": null,
            "right": null,
            "justify_content": null,
            "_view_module": "@jupyter-widgets/base",
            "overflow": null,
            "_model_module_version": "1.2.0",
            "_view_count": null,
            "flex_flow": null,
            "width": null,
            "min_width": null,
            "border": null,
            "align_items": null,
            "bottom": null,
            "_model_module": "@jupyter-widgets/base",
            "top": null,
            "grid_column": null,
            "overflow_y": null,
            "overflow_x": null,
            "grid_auto_flow": null,
            "grid_area": null,
            "grid_template_columns": null,
            "flex": null,
            "_model_name": "LayoutModel",
            "justify_items": null,
            "grid_row": null,
            "max_height": null,
            "align_content": null,
            "visibility": null,
            "align_self": null,
            "height": null,
            "min_height": null,
            "padding": null,
            "grid_auto_rows": null,
            "grid_gap": null,
            "max_width": null,
            "order": null,
            "_view_module_version": "1.2.0",
            "grid_template_areas": null,
            "object_position": null,
            "object_fit": null,
            "grid_auto_columns": null,
            "margin": null,
            "display": null,
            "left": null
          }
        }
      }
    }
  },
  "cells": [
    {
      "cell_type": "markdown",
      "metadata": {
        "id": "view-in-github",
        "colab_type": "text"
      },
      "source": [
        "<a href=\"https://colab.research.google.com/github/padubidri-pavan/ASA_Spring2021/blob/main/BiT_finetuning.ipynb\" target=\"_parent\"><img src=\"https://colab.research.google.com/assets/colab-badge.svg\" alt=\"Open In Colab\"/></a>"
      ]
    },
    {
      "cell_type": "markdown",
      "metadata": {
        "id": "OA2B85-yfHkJ"
      },
      "source": [
        "# BigTransfer (BiT)\n",
        "\n",
        "Paper: https://arxiv.org/abs/1912.11370 \\\\\n",
        "Reference: http://github.com/google-research/big_transfer"
      ]
    },
    {
      "cell_type": "code",
      "metadata": {
        "id": "2MCUeLqhqh6d"
      },
      "source": [
        "from functools import partial\n",
        "from collections import OrderedDict"
      ],
      "execution_count": 1,
      "outputs": []
    },
    {
      "cell_type": "code",
      "metadata": {
        "id": "fg2boM5BfvpF"
      },
      "source": [
        "%config InlineBackend.figure_format = 'retina'\n",
        "\n",
        "import numpy as np\n",
        "\n",
        "import matplotlib.pyplot as plt\n",
        "from mpl_toolkits.axes_grid1 import ImageGrid"
      ],
      "execution_count": 2,
      "outputs": []
    },
    {
      "cell_type": "code",
      "metadata": {
        "id": "FKYlZVpGo9jZ"
      },
      "source": [
        "import torch\n",
        "import torch.nn as nn\n",
        "import torch.nn.functional as F\n",
        "from torch.autograd import Variable\n",
        "\n",
        "import torchvision as tv"
      ],
      "execution_count": 3,
      "outputs": []
    },
    {
      "cell_type": "code",
      "metadata": {
        "id": "gW-XMhiVi0nh",
        "colab": {
          "base_uri": "https://localhost:8080/"
        },
        "outputId": "aa04dd45-0c71-443d-eff5-3446205e639d"
      },
      "source": [
        "device = torch.device(\"cuda:0\" if torch.cuda.is_available() else \"cpu\")\n",
        "print(device)"
      ],
      "execution_count": 4,
      "outputs": [
        {
          "output_type": "stream",
          "name": "stdout",
          "text": [
            "cuda:0\n"
          ]
        }
      ]
    },
    {
      "cell_type": "markdown",
      "metadata": {
        "id": "C_lOBZYwy1SW"
      },
      "source": [
        "## Reading weight data from the Cloud bucket"
      ]
    },
    {
      "cell_type": "code",
      "metadata": {
        "id": "sg5HNzLyzubz"
      },
      "source": [
        "import requests\n",
        "import io"
      ],
      "execution_count": 5,
      "outputs": []
    },
    {
      "cell_type": "code",
      "metadata": {
        "id": "xC6YhfLb1ZGE"
      },
      "source": [
        "def get_weights(bit_variant):\n",
        "    response = requests.get(f'https://storage.googleapis.com/bit_models/{bit_variant}.npz')\n",
        "    response.raise_for_status()\n",
        "    return np.load(io.BytesIO(response.content))"
      ],
      "execution_count": 6,
      "outputs": []
    },
    {
      "cell_type": "markdown",
      "metadata": {
        "id": "7jmE36gEi4Ef"
      },
      "source": [
        "## Defining the architecture and loading weights"
      ]
    },
    {
      "cell_type": "code",
      "metadata": {
        "id": "y00wwFQvrwsX"
      },
      "source": [
        "class StdConv2d(nn.Conv2d):\n",
        "    def forward(self, x):\n",
        "        w = self.weight\n",
        "        v, m = torch.var_mean(w, dim=[1, 2, 3], keepdim=True, unbiased=False)\n",
        "        w = (w - m) / torch.sqrt(v + 1e-10)\n",
        "        return F.conv2d(x, w, self.bias, self.stride, self.padding, self.dilation, self.groups)"
      ],
      "execution_count": 7,
      "outputs": []
    },
    {
      "cell_type": "code",
      "metadata": {
        "id": "lgXeQXKVpPqV"
      },
      "source": [
        "def conv3x3(cin, cout, stride=1, groups=1, bias=False):\n",
        "    return StdConv2d(cin, cout, kernel_size=3, stride=stride, padding=1, bias=bias, groups=groups)\n",
        "\n",
        "def conv1x1(cin, cout, stride=1, bias=False):\n",
        "    return StdConv2d(cin, cout, kernel_size=1, stride=stride, padding=0, bias=bias)"
      ],
      "execution_count": 8,
      "outputs": []
    },
    {
      "cell_type": "code",
      "metadata": {
        "id": "f4yzODhR6U6p"
      },
      "source": [
        "def tf2th(conv_weights):\n",
        "  \"\"\"Possibly convert HWIO to OIHW\"\"\"\n",
        "  if conv_weights.ndim == 4:\n",
        "    conv_weights = np.transpose(conv_weights, [3, 2, 0, 1])\n",
        "  return torch.from_numpy(conv_weights)"
      ],
      "execution_count": 9,
      "outputs": []
    },
    {
      "cell_type": "code",
      "metadata": {
        "id": "tNq34tmsqgXG"
      },
      "source": [
        "class PreActBottleneck(nn.Module):\n",
        "    \"\"\"\n",
        "    Follows the implementation of \"Identity Mappings in Deep Residual Networks\" here:\n",
        "    https://github.com/KaimingHe/resnet-1k-layers/blob/master/resnet-pre-act.lua\n",
        "\n",
        "    Except it puts the stride on 3x3 conv when available.\n",
        "    \"\"\"\n",
        "    def __init__(self, cin, cout=None, cmid=None, stride=1):\n",
        "        super().__init__()\n",
        "        cout = cout or cin\n",
        "        cmid = cmid or cout//4\n",
        "\n",
        "        self.gn1 = nn.GroupNorm(32, cin)\n",
        "        self.conv1 = conv1x1(cin, cmid)\n",
        "        self.gn2 = nn.GroupNorm(32, cmid)\n",
        "        self.conv2 = conv3x3(cmid, cmid, stride)  # Original ResNetv2 has it on conv1!!\n",
        "        self.gn3 = nn.GroupNorm(32, cmid)\n",
        "        self.conv3 = conv1x1(cmid, cout)\n",
        "        self.relu = nn.ReLU(inplace=True)\n",
        "\n",
        "        if (stride != 1 or cin != cout):\n",
        "        # Projection also with pre-activation according to paper.\n",
        "            self.downsample = conv1x1(cin, cout, stride)\n",
        "\n",
        "    def forward(self, x):\n",
        "        # Conv'ed branch\n",
        "        out = self.relu(self.gn1(x))\n",
        "\n",
        "        # Residual branch\n",
        "        residual = x\n",
        "        if hasattr(self, 'downsample'):\n",
        "            residual = self.downsample(out)\n",
        "\n",
        "        # The first block has already applied pre-act before splitting, see Appendix.\n",
        "        out = self.conv1(out)\n",
        "        out = self.conv2(self.relu(self.gn2(out)))\n",
        "        out = self.conv3(self.relu(self.gn3(out)))\n",
        "\n",
        "        return out + residual\n",
        "\n",
        "    def load_from(self, weights, prefix=''):\n",
        "        with torch.no_grad():\n",
        "            self.conv1.weight.copy_(tf2th(weights[prefix + 'a/standardized_conv2d/kernel']))\n",
        "            self.conv2.weight.copy_(tf2th(weights[prefix + 'b/standardized_conv2d/kernel']))\n",
        "            self.conv3.weight.copy_(tf2th(weights[prefix + 'c/standardized_conv2d/kernel']))\n",
        "            self.gn1.weight.copy_(tf2th(weights[prefix + 'a/group_norm/gamma']))\n",
        "            self.gn2.weight.copy_(tf2th(weights[prefix + 'b/group_norm/gamma']))\n",
        "            self.gn3.weight.copy_(tf2th(weights[prefix + 'c/group_norm/gamma']))\n",
        "            self.gn1.bias.copy_(tf2th(weights[prefix + 'a/group_norm/beta']))\n",
        "            self.gn2.bias.copy_(tf2th(weights[prefix + 'b/group_norm/beta']))\n",
        "            self.gn3.bias.copy_(tf2th(weights[prefix + 'c/group_norm/beta']))\n",
        "            if hasattr(self, 'downsample'):\n",
        "                self.downsample.weight.copy_(tf2th(weights[prefix + 'a/proj/standardized_conv2d/kernel']))\n",
        "        return self"
      ],
      "execution_count": 10,
      "outputs": []
    },
    {
      "cell_type": "code",
      "metadata": {
        "id": "6fGKjfXm60pY"
      },
      "source": [
        "class ResNetV2(nn.Module):\n",
        "    BLOCK_UNITS = {\n",
        "      'r50': [3, 4, 6, 3],\n",
        "      'r101': [3, 4, 23, 3],\n",
        "      'r152': [3, 8, 36, 3],\n",
        "    }\n",
        "\n",
        "    def __init__(self, block_units, width_factor, head_size=21843, zero_head=False):\n",
        "        super().__init__()\n",
        "        wf = width_factor  # shortcut 'cause we'll use it a lot.\n",
        "\n",
        "        self.root = nn.Sequential(OrderedDict([\n",
        "            ('conv', StdConv2d(3, 64*wf, kernel_size=7, stride=2, padding=3, bias=False)),\n",
        "            ('padp', nn.ConstantPad2d(1, 0)),\n",
        "            ('pool', nn.MaxPool2d(kernel_size=3, stride=2, padding=0)),\n",
        "            # The following is subtly not the same!\n",
        "            #('pool', nn.MaxPool2d(kernel_size=3, stride=2, padding=1)),\n",
        "        ]))\n",
        "\n",
        "        self.body = nn.Sequential(OrderedDict([\n",
        "            ('block1', nn.Sequential(OrderedDict(\n",
        "                [('unit01', PreActBottleneck(cin= 64*wf, cout=256*wf, cmid=64*wf))] +\n",
        "                [(f'unit{i:02d}', PreActBottleneck(cin=256*wf, cout=256*wf, cmid=64*wf)) for i in range(2, block_units[0] + 1)],\n",
        "            ))),\n",
        "            ('block2', nn.Sequential(OrderedDict(\n",
        "                [('unit01', PreActBottleneck(cin=256*wf, cout=512*wf, cmid=128*wf, stride=2))] +\n",
        "                [(f'unit{i:02d}', PreActBottleneck(cin=512*wf, cout=512*wf, cmid=128*wf)) for i in range(2, block_units[1] + 1)],\n",
        "            ))),\n",
        "            ('block3', nn.Sequential(OrderedDict(\n",
        "                [('unit01', PreActBottleneck(cin= 512*wf, cout=1024*wf, cmid=256*wf, stride=2))] +\n",
        "                [(f'unit{i:02d}', PreActBottleneck(cin=1024*wf, cout=1024*wf, cmid=256*wf)) for i in range(2, block_units[2] + 1)],\n",
        "            ))),\n",
        "            ('block4', nn.Sequential(OrderedDict(\n",
        "                [('unit01', PreActBottleneck(cin=1024*wf, cout=2048*wf, cmid=512*wf, stride=2))] +\n",
        "                [(f'unit{i:02d}', PreActBottleneck(cin=2048*wf, cout=2048*wf, cmid=512*wf)) for i in range(2, block_units[3] + 1)],\n",
        "            ))),\n",
        "        ]))\n",
        "\n",
        "        self.zero_head = zero_head\n",
        "        self.head = nn.Sequential(OrderedDict([\n",
        "            ('gn', nn.GroupNorm(32, 2048*wf)),\n",
        "            ('relu', nn.ReLU(inplace=True)),\n",
        "            ('avg', nn.AdaptiveAvgPool2d(output_size=1)),\n",
        "            ('conv', nn.Conv2d(2048*wf, head_size, kernel_size=1, bias=True)),\n",
        "        ]))\n",
        "  \n",
        "    def forward(self, x):\n",
        "        x = self.head(self.body(self.root(x)))\n",
        "        assert x.shape[-2:] == (1, 1)  # We should have no spatial shape left.\n",
        "        return x[...,0,0]\n",
        "\n",
        "    def load_from(self, weights, prefix='resnet/'):\n",
        "        with torch.no_grad():\n",
        "            self.root.conv.weight.copy_(tf2th(weights[f'{prefix}root_block/standardized_conv2d/kernel']))\n",
        "            self.head.gn.weight.copy_(tf2th(weights[f'{prefix}group_norm/gamma']))\n",
        "            self.head.gn.bias.copy_(tf2th(weights[f'{prefix}group_norm/beta']))\n",
        "            if self.zero_head:\n",
        "                nn.init.zeros_(self.head.conv.weight)\n",
        "                nn.init.zeros_(self.head.conv.bias)\n",
        "            else:\n",
        "                self.head.conv.weight.copy_(tf2th(weights[f'{prefix}head/conv2d/kernel']))\n",
        "                self.head.conv.bias.copy_(tf2th(weights[f'{prefix}head/conv2d/bias']))\n",
        "\n",
        "            for bname, block in self.body.named_children():\n",
        "                for uname, unit in block.named_children():\n",
        "                    unit.load_from(weights, prefix=f'{prefix}{bname}/{uname}/')\n",
        "        return self"
      ],
      "execution_count": 11,
      "outputs": []
    },
    {
      "cell_type": "markdown",
      "metadata": {
        "id": "esyksojMjCQ-"
      },
      "source": [
        "## Boilerplate"
      ]
    },
    {
      "cell_type": "code",
      "metadata": {
        "id": "yk7RAE3bsntF"
      },
      "source": [
        "from IPython.display import HTML, display\n",
        "\n",
        "def progress(value, max=100):\n",
        "    return HTML(\"\"\"\n",
        "        <progress\n",
        "            value='{value}'\n",
        "            max='{max}',\n",
        "            style='width: 100%'\n",
        "        >\n",
        "            {value}\n",
        "        </progress>\n",
        "    \"\"\".format(value=value, max=max))"
      ],
      "execution_count": 12,
      "outputs": []
    },
    {
      "cell_type": "code",
      "metadata": {
        "id": "6wSnf5r8V4-T"
      },
      "source": [
        "def stairs(s, v, *svs):\n",
        "    \"\"\" Implements a typical \"stairs\" schedule for learning-rates.\n",
        "    Best explained by example:\n",
        "    stairs(s, 0.1, 10, 0.01, 20, 0.001)\n",
        "    will return 0.1 if s<10, 0.01 if 10<=s<20, and 0.001 if 20<=s\n",
        "    \"\"\"\n",
        "    for s0, v0 in zip(svs[::2], svs[1::2]):\n",
        "        if s < s0:\n",
        "            break\n",
        "        v = v0\n",
        "    return v\n",
        "\n",
        "def rampup(s, peak_s, peak_lr):\n",
        "    if s < peak_s:  # Warmup\n",
        "        return s/peak_s * peak_lr\n",
        "    else:\n",
        "        return peak_lr\n",
        "\n",
        "def schedule(s):\n",
        "    step_lr = stairs(s, 3e-3, 200, 3e-4, 300, 3e-5, 400, 3e-6, 500, None)\n",
        "    return rampup(s, 100, step_lr)"
      ],
      "execution_count": 13,
      "outputs": []
    },
    {
      "cell_type": "markdown",
      "metadata": {
        "id": "zJOCvHlpjJuw"
      },
      "source": [
        "## Data preprocess"
      ]
    },
    {
      "cell_type": "code",
      "metadata": {
        "colab": {
          "base_uri": "https://localhost:8080/"
        },
        "id": "eiupf8LejHWN",
        "outputId": "417bfb74-7c16-4d63-ecf4-d94c487f6c15"
      },
      "source": [
        "import PIL\n",
        "\n",
        "preprocess_train = tv.transforms.Compose([\n",
        "    tv.transforms.Resize((160, 160), interpolation=PIL.Image.BILINEAR),  # It's the default, just being explicit for the reader.\n",
        "    tv.transforms.RandomCrop((128, 128)),\n",
        "    tv.transforms.RandomHorizontalFlip(),\n",
        "    tv.transforms.ToTensor(),\n",
        "    tv.transforms.Normalize((0.5, 0.5, 0.5), (0.5, 0.5, 0.5))  # Get data into [-1, 1]\n",
        "])\n",
        "\n",
        "preprocess_eval = tv.transforms.Compose([\n",
        "    tv.transforms.Resize((128, 128), interpolation=PIL.Image.BILINEAR),\n",
        "    tv.transforms.ToTensor(),\n",
        "    tv.transforms.Normalize((0.5, 0.5, 0.5), (0.5, 0.5, 0.5))\n",
        "])"
      ],
      "execution_count": 14,
      "outputs": [
        {
          "output_type": "stream",
          "name": "stderr",
          "text": [
            "/usr/local/lib/python3.7/dist-packages/torchvision/transforms/transforms.py:281: UserWarning: Argument interpolation should be of type InterpolationMode instead of int. Please, use InterpolationMode enum.\n",
            "  \"Argument interpolation should be of type InterpolationMode instead of int. \"\n"
          ]
        }
      ]
    },
    {
      "cell_type": "markdown",
      "metadata": {
        "id": "DyfAxYhsl48E"
      },
      "source": [
        "## Few-shot learning data generation"
      ]
    },
    {
      "cell_type": "code",
      "metadata": {
        "id": "JysD-JG1jVpY"
      },
      "source": [
        "def few_shot_data(trainset, n_classes, n_shot):\n",
        "    loader = torch.utils.data.DataLoader(trainset, batch_size=50000, shuffle=False, num_workers=2)\n",
        "    images, labels = iter(loader).next()\n",
        "    indices = {cls: np.random.choice(np.where(labels.numpy() == cls)[0], n_shot, replace=False) for cls in range(n_classes)}\n",
        "    train_few_shot = torch.utils.data.Subset(trainset, indices=[i for v in indices.values() for i in v])\n",
        "    return train_few_shot"
      ],
      "execution_count": 15,
      "outputs": []
    },
    {
      "cell_type": "markdown",
      "metadata": {
        "id": "hrjr1Plroh3h"
      },
      "source": [
        "## Fine-tuning"
      ]
    },
    {
      "cell_type": "code",
      "metadata": {
        "id": "llIcno5cq2cr"
      },
      "source": [
        "def eval(model, loader_test, progressbar=True):\n",
        "\n",
        "    model.eval()\n",
        "\n",
        "    if progressbar is True:\n",
        "        progressbar = display(progress(0, len(loader_test)), display_id=True)\n",
        "\n",
        "    preds = []\n",
        "    with torch.no_grad():\n",
        "        for i, (x, t) in enumerate(loader_test):\n",
        "            x, t = x.to(device), t.numpy()\n",
        "            logits = model(x)\n",
        "            _, y = torch.max(logits.data, 1)\n",
        "            preds.extend(y.cpu().numpy() == t)\n",
        "            progressbar.update(progress(i+1, len(loader_test)))\n",
        "\n",
        "    return np.mean(preds)"
      ],
      "execution_count": 16,
      "outputs": []
    },
    {
      "cell_type": "code",
      "metadata": {
        "id": "qnd50vvqooac"
      },
      "source": [
        "def fine_tune(model, train_few_shot, testset, epochs = 500):\n",
        "# train_few_shot = train_5shot\n",
        "# epochs = 500\n",
        "# if True:\n",
        "    # load data\n",
        "    sampler = torch.utils.data.RandomSampler(train_few_shot, replacement=True, num_samples=256)\n",
        "    loader_train = torch.utils.data.DataLoader(train_few_shot, batch_size=256, num_workers=2, sampler=sampler)\n",
        "    loader_test = torch.utils.data.DataLoader(testset, batch_size=100, shuffle=False, num_workers=2)\n",
        "\n",
        "    # optimizer and loss fn\n",
        "    crit = nn.CrossEntropyLoss()\n",
        "    opti = torch.optim.SGD(model.parameters(), lr=0.003, momentum=0.9)\n",
        "    model.train();\n",
        "\n",
        "    # train monitoring\n",
        "    S = epochs\n",
        "    pb_train = display(progress(0, S), display_id=True)\n",
        "    pb_test = display(progress(0, 100), display_id=True)\n",
        "    losses = [[]]\n",
        "    accus_train = [[]]\n",
        "    accus_test = []\n",
        "\n",
        "    steps_per_iter = 512 // loader_train.batch_size\n",
        "    stop = False\n",
        "    while len(losses) < S and not stop:\n",
        "        for x, t in loader_train:\n",
        "            x, t = x.to(device), t.to(device)\n",
        "\n",
        "            logits = model(x)\n",
        "            loss = crit(logits, t) / steps_per_iter\n",
        "            loss.backward()\n",
        "            losses[-1].append(loss.item())\n",
        "\n",
        "            with torch.no_grad():\n",
        "                accus_train[-1].extend(torch.max(logits, dim=1)[1].cpu().numpy() == t.cpu().numpy())\n",
        "\n",
        "            if len(losses[-1]) == steps_per_iter:\n",
        "                losses[-1] = sum(losses[-1])\n",
        "                losses.append([])\n",
        "                accus_train[-1] = np.mean(accus_train[-1])\n",
        "                accus_train.append([])\n",
        "\n",
        "            # Update learning-rate according to schedule, and stop if necessary\n",
        "            lr = schedule(len(losses) - 1)\n",
        "            for param_group in opti.param_groups:\n",
        "                param_group['lr'] = lr\n",
        "\n",
        "            opti.step()\n",
        "            opti.zero_grad()\n",
        "\n",
        "            pb_train.update(progress(len(losses) - 1, S))\n",
        "            # stop = True\n",
        "            # break\n",
        "            print(f'\\r[Step {len(losses) - 1}] loss={(losses[-1][-1] if losses[-1] else 0):.2e} '\n",
        "                    # f'train accu={accus_train[-1][-1]} '\n",
        "                    f'test accu={accus_test[-1] if accus_test else 0:.2%} '\n",
        "                    f'(lr={lr:g})', end='', flush=True)\n",
        "\n",
        "            if len(losses) % 25 == 0:\n",
        "                accus_test.append(eval(model, loader_test, progressbar=pb_test))\n",
        "                model.train()\n",
        "\n",
        "    fig, (ax1, ax2, ax3) = plt.subplots(1, 3, figsize=(15, 4))\n",
        "    ax1.plot(losses[:-1])\n",
        "    ax1.set_yscale('log')\n",
        "    ax1.set_title('loss')\n",
        "    ax2.plot(accus_train[:-1])\n",
        "    ax2.set_title('training accuracy')\n",
        "    ax3.plot(accus_test)\n",
        "    ax3.set_title('test accuracy');"
      ],
      "execution_count": 76,
      "outputs": []
    },
    {
      "cell_type": "markdown",
      "metadata": {
        "id": "kbFVhkP6mpPk"
      },
      "source": [
        "## CIFAR10"
      ]
    },
    {
      "cell_type": "code",
      "metadata": {
        "colab": {
          "base_uri": "https://localhost:8080/",
          "height": 99,
          "referenced_widgets": [
            "0fe8e9b948dc4432a42788328818dd38",
            "158551a96b874d9892650476527c6277",
            "50fd3d55edb34951b97fd7189a6cf36b",
            "bd942a82072e46c3846f212c03c68290",
            "eaaa9eef212f4d8990866e0b4aaddb08",
            "83ce6c35ec5647e1ae73672d7c709c1c",
            "ee8206ee72224dbc9dce90382cd8ee40",
            "3a9055b786ae4637b863475056a0c15c",
            "dcbbb0f9e37248e2b9742cbb2153b2bc",
            "c1ad134f85d94570a161477dae84d1ad",
            "afa6f0ded6f34b199a583e6566556cee"
          ]
        },
        "id": "LJQnjF-yme9I",
        "outputId": "f9970240-034b-4d17-dd23-20dcd78c25f4"
      },
      "source": [
        "trainset = tv.datasets.CIFAR10(root='./data', train=True, download=True, transform=preprocess_train)\n",
        "testset = tv.datasets.CIFAR10(root='./data', train=False, download=True, transform=preprocess_eval)"
      ],
      "execution_count": 18,
      "outputs": [
        {
          "output_type": "stream",
          "name": "stdout",
          "text": [
            "Downloading https://www.cs.toronto.edu/~kriz/cifar-10-python.tar.gz to ./data/cifar-10-python.tar.gz\n"
          ]
        },
        {
          "output_type": "display_data",
          "data": {
            "application/vnd.jupyter.widget-view+json": {
              "model_id": "0fe8e9b948dc4432a42788328818dd38",
              "version_minor": 0,
              "version_major": 2
            },
            "text/plain": [
              "  0%|          | 0/170498071 [00:00<?, ?it/s]"
            ]
          },
          "metadata": {}
        },
        {
          "output_type": "stream",
          "name": "stdout",
          "text": [
            "Extracting ./data/cifar-10-python.tar.gz to ./data\n",
            "Files already downloaded and verified\n"
          ]
        }
      ]
    },
    {
      "cell_type": "code",
      "metadata": {
        "id": "4OPKFF-TusKj"
      },
      "source": [
        "train_5shot = few_shot_data(trainset, n_classes=10, n_shot=5)"
      ],
      "execution_count": 19,
      "outputs": []
    },
    {
      "cell_type": "code",
      "metadata": {
        "id": "Zrx-68GEtHMp"
      },
      "source": [
        "# load model\n",
        "weights = get_weights('BiT-M-R50x1')\n",
        "model = ResNetV2(ResNetV2.BLOCK_UNITS['r50'], width_factor=1, head_size=10, zero_head=True)\n",
        "model.load_from(weights)\n",
        "model.to(device);\n",
        "\n",
        "# 5 shot\n",
        "train_5shot = few_shot_data(trainset, n_classes=10, n_shot=5)\n",
        "fine_tune(model, train_5shot, testset)"
      ],
      "execution_count": null,
      "outputs": []
    },
    {
      "cell_type": "code",
      "metadata": {
        "colab": {
          "base_uri": "https://localhost:8080/",
          "height": 330
        },
        "id": "CPRiM5r2tbiC",
        "outputId": "ea4536f9-9c18-41d3-82f3-a710e043aab7"
      },
      "source": [
        "# load model\n",
        "weights = get_weights('BiT-M-R50x1')\n",
        "model = ResNetV2(ResNetV2.BLOCK_UNITS['r50'], width_factor=1, head_size=10, zero_head=True)\n",
        "model.load_from(weights)\n",
        "model.to(device);\n",
        "\n",
        "# 10 shot\n",
        "train_10shot = few_shot_data(trainset, n_classes=10, n_shot=10)\n",
        "fine_tune(model, train_10shot, testset)"
      ],
      "execution_count": 77,
      "outputs": [
        {
          "output_type": "display_data",
          "data": {
            "text/html": [
              "\n",
              "        <progress\n",
              "            value='499'\n",
              "            max='500',\n",
              "            style='width: 100%'\n",
              "        >\n",
              "            499\n",
              "        </progress>\n",
              "    "
            ],
            "text/plain": [
              "<IPython.core.display.HTML object>"
            ]
          },
          "metadata": {}
        },
        {
          "output_type": "display_data",
          "data": {
            "text/html": [
              "\n",
              "        <progress\n",
              "            value='100'\n",
              "            max='100',\n",
              "            style='width: 100%'\n",
              "        >\n",
              "            100\n",
              "        </progress>\n",
              "    "
            ],
            "text/plain": [
              "<IPython.core.display.HTML object>"
            ]
          },
          "metadata": {}
        },
        {
          "output_type": "stream",
          "name": "stdout",
          "text": [
            "[Step 499] loss=0.00e+00 test accu=89.06% (lr=3e-06)"
          ]
        },
        {
          "output_type": "display_data",
          "data": {
            "image/png": "[encoded data removed]",
            "text/plain": [
              "<Figure size 1080x288 with 3 Axes>"
            ]
          },
          "metadata": {
            "image/png": {
              "width": 881,
              "height": 263
            },
            "needs_background": "light"
          }
        }
      ]
    },
    {
      "cell_type": "code",
      "metadata": {
        "id": "yeUVXk5Rteah"
      },
      "source": [
        "# load model\n",
        "weights = get_weights('BiT-M-R50x1')\n",
        "model = ResNetV2(ResNetV2.BLOCK_UNITS['r50'], width_factor=1, head_size=10, zero_head=True)\n",
        "model.load_from(weights)\n",
        "model.to(device);\n",
        "\n",
        "# full shot\n",
        "fine_tune(model, trainset, testset)"
      ],
      "execution_count": null,
      "outputs": []
    }
  ]
}